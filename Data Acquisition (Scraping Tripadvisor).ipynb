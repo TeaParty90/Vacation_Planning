{
 "cells": [
  {
   "cell_type": "code",
   "execution_count": 382,
   "id": "c855028f",
   "metadata": {},
   "outputs": [],
   "source": [
    "import csv\n",
    "from selenium import webdriver\n",
    "import time"
   ]
  },
  {
   "cell_type": "code",
   "execution_count": 383,
   "id": "288e1ebc",
   "metadata": {},
   "outputs": [],
   "source": [
    "from selenium.common.exceptions import NoSuchElementException"
   ]
  },
  {
   "cell_type": "code",
   "execution_count": 554,
   "id": "b108c4b4",
   "metadata": {},
   "outputs": [],
   "source": [
    "pages_to_scrape=60"
   ]
  },
  {
   "cell_type": "code",
   "execution_count": 573,
   "id": "6ee36f35",
   "metadata": {},
   "outputs": [],
   "source": [
    "#use url of an attraction\n",
    "url=\"https://www.tripadvisor.com/Attraction_Review-g60763-d136347-Reviews-Bryant_Park-New_York_City_New_York.html\""
   ]
  },
  {
   "cell_type": "code",
   "execution_count": 574,
   "id": "55896ebd",
   "metadata": {},
   "outputs": [],
   "source": [
    "from selenium.webdriver.firefox.options import Options\n",
    "options = Options()\n",
    "options.add_argument(\"-profile\")\n",
    "# default firefox profile path  \n",
    "options.add_argument(\"/home/aysa/snap/firefox/common/.cache/mozilla/firefox/o2xece58.Selenium2\")\n",
    "driver=webdriver.Firefox(options=options)"
   ]
  },
  {
   "cell_type": "code",
   "execution_count": 575,
   "id": "9c812a22",
   "metadata": {},
   "outputs": [],
   "source": [
    "#open url in browser\n",
    "driver.get(url)"
   ]
  },
  {
   "cell_type": "code",
   "execution_count": 576,
   "id": "c6736d18",
   "metadata": {},
   "outputs": [],
   "source": [
    "#open csv file\n",
    "csvFile=open('NY_10.csv','a',encoding=\"utf-8\")\n"
   ]
  },
  {
   "cell_type": "code",
   "execution_count": 577,
   "id": "b18fb3c4",
   "metadata": {},
   "outputs": [],
   "source": [
    "csvWriter=csv.writer(csvFile)"
   ]
  },
  {
   "cell_type": "code",
   "execution_count": 551,
   "id": "09b3420e",
   "metadata": {},
   "outputs": [],
   "source": [
    "from selenium.webdriver.common.by import By\n",
    "from selenium.common.exceptions import NoSuchElementException"
   ]
  },
  {
   "cell_type": "code",
   "execution_count": null,
   "id": "658e1913",
   "metadata": {},
   "outputs": [],
   "source": [
    "from selenium.webdriver.support.ui import WebDriverWait\n",
    "from selenium.webdriver.support import expected_conditions as EC\n",
    "\n",
    "# decide on the number of reviews needed to grab\n",
    "for i in range(0, pages_to_scrape+10):\n",
    "\n",
    "    # wait for the page to load\n",
    "    time.sleep(2) \n",
    "\n",
    "    # Click the \"expand review\" link .\n",
    "    element=driver.find_element(By.XPATH, value=\".//div[@class='eIVRK']\")\n",
    "    \n",
    "    driver.execute_script(\"arguments[0].click();\",element)\n",
    "    #looking for review elements in the page and saving them to a container. \n",
    "    container = driver.find_elements(By.XPATH, value=\"//div[@data-automation='reviewCard']\")\n",
    "    \n",
    "    # Loop through the reviews in the container\n",
    "    for j in range(len(container)): \n",
    "\n",
    "        # Get the star rating\n",
    "        rating = container[j].find_element(By.XPATH, value=\".//*[name()='svg' and @class='RWYkj d H0']\").get_attribute(\"aria-label\").split(\" \")[0]\n",
    "        # Get the title\n",
    "        title = container[j].find_element(By.XPATH, value=\".//span[@class='NejBf']\").text\n",
    "        #Get the review\n",
    "        review = container[j].find_element(By.XPATH, value=\".//div[@class='WlYyy diXIH dDKKM']\").text.replace(\"\\n\", \"  \")\n",
    "        #Get the date of the review. Note that it's important to make sure that we consider that not all reviews have dates\n",
    "        try:\n",
    "            date_obj = container[j].find_element(By.XPATH, value=\".//div[contains(@class,'eRduX')]\")\n",
    "            date = date_obj.text.split(\" \")[:2]\n",
    "        except NoSuchElementException:\n",
    "            date=None\n",
    "\n",
    "        #Save that date in the csv \n",
    "        csvWriter.writerow([date, rating, title, review]) \n",
    "    \n",
    "    time.sleep(2)\n",
    "    \n",
    "    # Wait  until the  'Next Page' button is visible and click it.\n",
    "    element_arrow=driver.find_element(By.XPATH, value='.//a[@class=\"dfuux u j z _F ddFHE bVTsJ emPJr\" and @aria-label=\"Next page\"]')\n",
    "    wait = WebDriverWait(driver, 5)\n",
    "    wait.until(EC.visibility_of(element_arrow))\n",
    "    time.sleep(1)\n",
    "    element_arrow.click()\n",
    "    print(i)"
   ]
  },
  {
   "cell_type": "code",
   "execution_count": null,
   "id": "9e6044ed",
   "metadata": {},
   "outputs": [],
   "source": []
  }
 ],
 "metadata": {
  "kernelspec": {
   "display_name": "Python [conda env:metis] *",
   "language": "python",
   "name": "conda-env-metis-py"
  },
  "language_info": {
   "codemirror_mode": {
    "name": "ipython",
    "version": 3
   },
   "file_extension": ".py",
   "mimetype": "text/x-python",
   "name": "python",
   "nbconvert_exporter": "python",
   "pygments_lexer": "ipython3",
   "version": "3.10.4"
  }
 },
 "nbformat": 4,
 "nbformat_minor": 5
}
